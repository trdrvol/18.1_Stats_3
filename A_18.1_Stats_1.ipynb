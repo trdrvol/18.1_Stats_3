{
 "cells": [
  {
   "cell_type": "code",
   "execution_count": null,
   "metadata": {},
   "outputs": [],
   "source": [
    "\"\"\"\n",
    "Problem Statement 1:\n",
    "\n",
    "Blood glucose levels for obese patients have a mean of 100 with a standard deviation of\n",
    "15. A researcher thinks that a diet high in raw cornstarch will have a positive effect on\n",
    "blood glucose levels. A sample of 36 patients who have tried the raw cornstarch diet\n",
    "have a mean glucose level of 108. Test the hypothesis that the raw cornstarch had an\n",
    "effect or not.\n",
    "\"\"\""
   ]
  },
  {
   "cell_type": "raw",
   "metadata": {},
   "source": [
    "\n",
    "\n",
    "Population Mean= 100\n",
    "Standard Deviation of population = 15\n",
    "\n",
    "H0: mean = 100\n",
    "H1 : mean > 100\n",
    "\n",
    "z = x- mean/ std. deviation(of sample)\n",
    "\n",
    "std dev of sample = std. dev of population/ sq.rt of n\n",
    "= 15/ 6\n",
    " = 2.5\n",
    "\n",
    "z= 108 - 100 / 2.5\n",
    "=8/2.5\n",
    "=3.20\n",
    "\n",
    "Significance level(p-value) is generally taken to be 5% (.05)\n",
    "\n",
    "Looking at z-table p-value linked with 3.20 id 0.9993\n",
    "\n",
    "Inference is that probability of value being less than 108 is .9993\n",
    "and more than is .0007\n",
    "\n",
    "Since .0007 is less than .05(p-value). Hence we Reject Null Hypothesis.\n",
    "Raw corn starch had an effect on blood glucose level of obese patients\n",
    "\n",
    "\n",
    "\n"
   ]
  }
 ],
 "metadata": {
  "kernelspec": {
   "display_name": "Python 3",
   "language": "python",
   "name": "python3"
  },
  "language_info": {
   "codemirror_mode": {
    "name": "ipython",
    "version": 3
   },
   "file_extension": ".py",
   "mimetype": "text/x-python",
   "name": "python",
   "nbconvert_exporter": "python",
   "pygments_lexer": "ipython3",
   "version": "3.5.6"
  }
 },
 "nbformat": 4,
 "nbformat_minor": 2
}
